{
  "nbformat": 4,
  "nbformat_minor": 0,
  "metadata": {
    "colab": {
      "provenance": []
    },
    "kernelspec": {
      "name": "python3",
      "display_name": "Python 3"
    },
    "language_info": {
      "name": "python"
    }
  },
  "cells": [
    {
      "cell_type": "code",
      "execution_count": 1,
      "metadata": {
        "colab": {
          "base_uri": "https://localhost:8080/"
        },
        "id": "-ktaBjjiRYC0",
        "outputId": "fce69fac-381f-4a70-db5d-081d220a4002"
      },
      "outputs": [
        {
          "output_type": "stream",
          "name": "stdout",
          "text": [
            "Collecting pdf2image\n",
            "  Downloading pdf2image-1.17.0-py3-none-any.whl.metadata (6.2 kB)\n",
            "Requirement already satisfied: pillow in /usr/local/lib/python3.11/dist-packages (from pdf2image) (11.1.0)\n",
            "Downloading pdf2image-1.17.0-py3-none-any.whl (11 kB)\n",
            "Installing collected packages: pdf2image\n",
            "Successfully installed pdf2image-1.17.0\n",
            "Reading package lists... Done\n",
            "Building dependency tree... Done\n",
            "Reading state information... Done\n",
            "The following NEW packages will be installed:\n",
            "  poppler-utils\n",
            "0 upgraded, 1 newly installed, 0 to remove and 30 not upgraded.\n",
            "Need to get 186 kB of archives.\n",
            "After this operation, 696 kB of additional disk space will be used.\n",
            "Get:1 http://archive.ubuntu.com/ubuntu jammy-updates/main amd64 poppler-utils amd64 22.02.0-2ubuntu0.6 [186 kB]\n",
            "Fetched 186 kB in 0s (735 kB/s)\n",
            "Selecting previously unselected package poppler-utils.\n",
            "(Reading database ... 126210 files and directories currently installed.)\n",
            "Preparing to unpack .../poppler-utils_22.02.0-2ubuntu0.6_amd64.deb ...\n",
            "Unpacking poppler-utils (22.02.0-2ubuntu0.6) ...\n",
            "Setting up poppler-utils (22.02.0-2ubuntu0.6) ...\n",
            "Processing triggers for man-db (2.10.2-1) ...\n"
          ]
        }
      ],
      "source": [
        "!pip install pdf2image\n",
        "!apt-get install -y poppler-utils\n",
        "from pdf2image import convert_from_path\n",
        "import os"
      ]
    },
    {
      "cell_type": "code",
      "source": [
        "def convert_pdf_to_images(pdf_path, output_folder):\n",
        "  if not os.path.exists(output_folder):\n",
        "    os.makedirs(output_folder)\n",
        "    # Convert PDF to images\n",
        "    images = convert_from_path(pdf_path)\n",
        "    image_paths=[]\n",
        "    # save images nad paths\n",
        "    for i,image in enumerate(images):\n",
        "      image_path=os.path.join(output_folder,f\"page_{i+1}.jpg\")\n",
        "      image.save(image_path,\"JPEG\")\n",
        "      image_paths.append(image_path)\n",
        "    return image_paths"
      ],
      "metadata": {
        "id": "jLuzPH57RcrB"
      },
      "execution_count": 2,
      "outputs": []
    },
    {
      "cell_type": "code",
      "source": [
        "pdf_path=\"/content/Things mother used to make.pdf\"\n",
        "output_folder=\"images/\"\n",
        "image_paths=convert_pdf_to_images(pdf_path,output_folder)\n"
      ],
      "metadata": {
        "id": "7xMRArqUReaJ"
      },
      "execution_count": 3,
      "outputs": []
    },
    {
      "cell_type": "code",
      "source": [
        "import google.generativeai as genai  # Main Gemini API library\n",
        "import os"
      ],
      "metadata": {
        "id": "uQuSWVtJR1ka"
      },
      "execution_count": 4,
      "outputs": []
    },
    {
      "cell_type": "code",
      "source": [
        "from google.colab import userdata\n",
        "\n",
        "GEMINI_API_KEY = userdata.get('Gemini_API')\n",
        "genai.configure(api_key=GEMINI_API_KEY)\n"
      ],
      "metadata": {
        "id": "7N2JqE8BR2X_"
      },
      "execution_count": 5,
      "outputs": []
    },
    {
      "cell_type": "code",
      "source": [
        "import base64\n",
        "model = \"gemini-1.5-flash\"\n"
      ],
      "metadata": {
        "id": "NOXoDIKKSCBR"
      },
      "execution_count": 6,
      "outputs": []
    },
    {
      "cell_type": "code",
      "source": [
        "from IPython.display import Markdown,display"
      ],
      "metadata": {
        "id": "RiYEJf4MSL9Q"
      },
      "execution_count": 7,
      "outputs": []
    },
    {
      "cell_type": "code",
      "source": [
        "# /content/images/page_12.jpg\n",
        "image_path=\"/content/images/page_23.jpg\"\n",
        "with open(image_path,\"rb\") as image_file:\n",
        "  image_data=encoded_string=base64.b64encode(image_file.read()).decode(\"utf-8\")"
      ],
      "metadata": {
        "id": "H5Az63qvSWOZ"
      },
      "execution_count": 9,
      "outputs": []
    },
    {
      "cell_type": "code",
      "source": [
        "system_prompt = \"Dont provie summary just extract ,Please analyze the content of and extract any related recipe information.\"\n",
        "\n",
        "# Initialize the Gemini model\n",
        "model = genai.GenerativeModel('gemini-1.5-flash')\n",
        "\n",
        "# Generate content using your base64 encoded image\n",
        "response = model.generate_content(\n",
        "    [\n",
        "        system_prompt,\n",
        "        \"This is the image from the recipe page.\",\n",
        "        {\"mime_type\": \"image/jpeg\", \"data\": image_data}\n",
        "    ]\n",
        ")\n",
        "\n",
        "# Print the response\n",
        "print(response.text)"
      ],
      "metadata": {
        "colab": {
          "base_uri": "https://localhost:8080/",
          "height": 540
        },
        "id": "xyXL4pNdSRT1",
        "outputId": "9009347d-4a3a-4300-9998-fefe8375ce4b"
      },
      "execution_count": 10,
      "outputs": [
        {
          "output_type": "stream",
          "name": "stdout",
          "text": [
            "Here's the recipe information extracted from the image:\n",
            "\n",
            "**Bannocks:**\n",
            "\n",
            "* 1 Cupful of Thick Sour Milk\n",
            "* 1½ Cupful of Sugar\n",
            "* 1 Egg\n",
            "* 2 Cupfuls of Flour\n",
            "* 1½ Cupful of Indian Meal\n",
            "* 1 Teaspoonful of Soda\n",
            "* A pinch of Salt\n",
            "\n",
            "Instructions: Make the mixture stiff enough to drop from a spoon. Drop mixture, walnut-sized, into boiling fat. Serve warm with maple syrup.\n",
            "\n",
            "\n",
            "**Boston Brown Bread:**\n",
            "\n",
            "* 1 Cupful of Rye Meal\n",
            "* 1 Cupful of Graham Meal\n",
            "* 1½ Cupful of Flour\n",
            "* 1 Cupful of Indian Meal\n",
            "* 1 Cupful of Sweet Milk\n",
            "* 1 Cupful of Sour Milk\n",
            "* 1 Cupful of Molasses\n",
            "* ½ Teaspoonful of Salt\n",
            "* 1 Heaping Teaspoonful of Soda\n",
            "\n",
            "Instructions: Stir the dry ingredients (meals and salt) together. Beat the soda into the molasses until it foams; add sour milk, mix everything together, and pour into a greased tin pail (or brown-bread steamer).\n",
            "\n"
          ]
        }
      ]
    },
    {
      "cell_type": "code",
      "source": [],
      "metadata": {
        "id": "A6P1rigDSTGQ"
      },
      "execution_count": null,
      "outputs": []
    }
  ]
}